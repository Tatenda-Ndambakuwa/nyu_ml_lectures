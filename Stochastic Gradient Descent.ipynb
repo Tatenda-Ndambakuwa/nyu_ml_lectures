{
 "cells": [
  {
   "cell_type": "code",
   "execution_count": null,
   "metadata": {
    "collapsed": false
   },
   "outputs": [],
   "source": [
    "from sklearn.datasets import load_digits\n",
    "from sklearn.linear_model import SGDClassifier\n",
    "from sklearn.preprocessing import StandardScaler\n",
    "from sklearn.cross_validation import train_test_split\n",
    "\n",
    "digits = load_digits()\n",
    "\n",
    "\n",
    "X_train, X_test, y_train, y_test = train_test_split(digits.data, digits.target)\n",
    "scaler = StandardScaler()\n",
    "X_train_scaled = scaler.fit_transform(X_train)\n",
    "X_test_scaled = scaler.transform(X_test)"
   ]
  },
  {
   "cell_type": "code",
   "execution_count": null,
   "metadata": {
    "collapsed": false
   },
   "outputs": [],
   "source": [
    "sgd = SGDClassifier(n_iter=5, loss=\"hinge\", penalty=\"l2\")\n",
    "sgd.fit(X_train_scaled, y_train)\n",
    "print(sgd.score(X_test_scaled, y_test))"
   ]
  },
  {
   "cell_type": "code",
   "execution_count": null,
   "metadata": {
    "collapsed": false
   },
   "outputs": [],
   "source": [
    "sgd = SGDClassifier(shuffle=False)\n",
    "sgd.partial_fit(X_train_scaled, y_train, classes=range(10))\n",
    "print(sgd.score(X_test_scaled, y_test))\n",
    "sgd.partial_fit(X_train_scaled, y_train)\n",
    "print(sgd.score(X_test_scaled, y_test))\n",
    "sgd.partial_fit(X_train_scaled, y_train)\n",
    "print(sgd.score(X_test_scaled, y_test))"
   ]
  },
  {
   "cell_type": "markdown",
   "metadata": {
    "collapsed": false
   },
   "source": [
    "# Exercise\n",
    "Record the training and test loss for 10 iterations using constant learning rate and \"invscaling\" learning rate.\n",
    "Plot the resulting convergence curves. Try different learning rates."
   ]
  }
 ],
 "metadata": {
  "kernelspec": {
   "display_name": "Python 2",
   "language": "python",
   "name": "python2"
  },
  "language_info": {
   "codemirror_mode": {
    "name": "ipython",
    "version": 2
   },
   "file_extension": ".py",
   "mimetype": "text/x-python",
   "name": "python",
   "nbconvert_exporter": "python",
   "pygments_lexer": "ipython2",
   "version": "2.7.10"
  }
 },
 "nbformat": 4,
 "nbformat_minor": 0
}
